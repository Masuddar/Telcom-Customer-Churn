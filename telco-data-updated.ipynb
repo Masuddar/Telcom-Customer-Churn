{
 "cells": [
  {
   "cell_type": "code",
   "execution_count": 6,
   "id": "ff47771b",
   "metadata": {
    "papermill": {
     "duration": 5.114436,
     "end_time": "2025-03-03T05:46:15.564335",
     "exception": false,
     "start_time": "2025-03-03T05:46:10.449899",
     "status": "completed"
    },
    "tags": []
   },
   "outputs": [],
   "source": [
    "import pandas as pd\n",
    "import numpy as np\n",
    "import torch\n",
    "import torch.nn as nn\n",
    "import torch.optim as optim\n",
    "from torch.utils.data import DataLoader, TensorDataset\n",
    "from sklearn.model_selection import train_test_split\n",
    "from sklearn.preprocessing import StandardScaler\n",
    "import matplotlib.pyplot as plt"
   ]
  },
  {
   "cell_type": "markdown",
   "id": "05267124",
   "metadata": {
    "papermill": {
     "duration": 0.007302,
     "end_time": "2025-03-03T05:46:15.581165",
     "exception": false,
     "start_time": "2025-03-03T05:46:15.573863",
     "status": "completed"
    },
    "tags": []
   },
   "source": [
    "# Load Dataset"
   ]
  },
  {
   "cell_type": "code",
   "execution_count": 4,
   "id": "760c2482",
   "metadata": {
    "papermill": {
     "duration": 0.026859,
     "end_time": "2025-03-03T05:46:15.616451",
     "exception": false,
     "start_time": "2025-03-03T05:46:15.589592",
     "status": "completed"
    },
    "tags": []
   },
   "outputs": [
    {
     "name": "stdout",
     "output_type": "stream",
     "text": [
      "['.ipynb_checkpoints', 'telco-data-updated.ipynb', 'WA_Fn-UseC_-Telco-Customer-Churn.csv']\n"
     ]
    }
   ],
   "source": [
    "import os\n",
    "print(os.listdir(\"C:\\\\Users\\\\masud\\\\Downloads\\\\Telco Customer churn\"))\n"
   ]
  },
  {
   "cell_type": "code",
   "execution_count": 9,
   "id": "3142c6bd",
   "metadata": {
    "papermill": {
     "duration": 0.055712,
     "end_time": "2025-03-03T05:46:15.677470",
     "exception": false,
     "start_time": "2025-03-03T05:46:15.621758",
     "status": "completed"
    },
    "tags": []
   },
   "outputs": [],
   "source": [
    "df = pd.read_csv(\"WA_Fn-UseC_-Telco-Customer-Churn.csv\")"
   ]
  },
  {
   "cell_type": "markdown",
   "id": "fac6d06d",
   "metadata": {
    "papermill": {
     "duration": 0.004953,
     "end_time": "2025-03-03T05:46:15.687856",
     "exception": false,
     "start_time": "2025-03-03T05:46:15.682903",
     "status": "completed"
    },
    "tags": []
   },
   "source": [
    "# Drop customerID (not useful for classification)"
   ]
  },
  {
   "cell_type": "code",
   "execution_count": 10,
   "id": "b4b4cdfa",
   "metadata": {
    "papermill": {
     "duration": 0.021618,
     "end_time": "2025-03-03T05:46:15.714634",
     "exception": false,
     "start_time": "2025-03-03T05:46:15.693016",
     "status": "completed"
    },
    "tags": []
   },
   "outputs": [],
   "source": [
    "df.drop(columns=['customerID'], inplace=True)"
   ]
  },
  {
   "cell_type": "markdown",
   "id": "f0346029",
   "metadata": {
    "papermill": {
     "duration": 0.004841,
     "end_time": "2025-03-03T05:46:15.724566",
     "exception": false,
     "start_time": "2025-03-03T05:46:15.719725",
     "status": "completed"
    },
    "tags": []
   },
   "source": [
    "# Convert TotalCharges to numeric (handle missing values)"
   ]
  },
  {
   "cell_type": "code",
   "execution_count": 11,
   "id": "d75ed959",
   "metadata": {
    "papermill": {
     "duration": 0.01544,
     "end_time": "2025-03-03T05:46:15.745015",
     "exception": false,
     "start_time": "2025-03-03T05:46:15.729575",
     "status": "completed"
    },
    "tags": []
   },
   "outputs": [
    {
     "name": "stderr",
     "output_type": "stream",
     "text": [
      "C:\\Users\\masud\\AppData\\Local\\Temp\\ipykernel_12176\\2576541415.py:2: FutureWarning: A value is trying to be set on a copy of a DataFrame or Series through chained assignment using an inplace method.\n",
      "The behavior will change in pandas 3.0. This inplace method will never work because the intermediate object on which we are setting values always behaves as a copy.\n",
      "\n",
      "For example, when doing 'df[col].method(value, inplace=True)', try using 'df.method({col: value}, inplace=True)' or df[col] = df[col].method(value) instead, to perform the operation inplace on the original object.\n",
      "\n",
      "\n",
      "  df['TotalCharges'].fillna(df['TotalCharges'].median(), inplace=True)\n"
     ]
    }
   ],
   "source": [
    "df['TotalCharges'] = pd.to_numeric(df['TotalCharges'], errors='coerce')\n",
    "df['TotalCharges'].fillna(df['TotalCharges'].median(), inplace=True)\n"
   ]
  },
  {
   "cell_type": "markdown",
   "id": "43a9baac",
   "metadata": {
    "papermill": {
     "duration": 0.00507,
     "end_time": "2025-03-03T05:46:15.755165",
     "exception": false,
     "start_time": "2025-03-03T05:46:15.750095",
     "status": "completed"
    },
    "tags": []
   },
   "source": [
    "# Convert Churn to binary (Yes -> 1, No -> 0)"
   ]
  },
  {
   "cell_type": "code",
   "execution_count": 12,
   "id": "592a0a02",
   "metadata": {
    "papermill": {
     "duration": 0.011126,
     "end_time": "2025-03-03T05:46:15.771278",
     "exception": false,
     "start_time": "2025-03-03T05:46:15.760152",
     "status": "completed"
    },
    "tags": []
   },
   "outputs": [],
   "source": [
    "df['Churn'] = df['Churn'].map({'Yes': 1, 'No': 0})"
   ]
  },
  {
   "cell_type": "markdown",
   "id": "e3175811",
   "metadata": {
    "papermill": {
     "duration": 0.005079,
     "end_time": "2025-03-03T05:46:15.781659",
     "exception": false,
     "start_time": "2025-03-03T05:46:15.776580",
     "status": "completed"
    },
    "tags": []
   },
   "source": [
    "# Identify numerical and categorical features"
   ]
  },
  {
   "cell_type": "code",
   "execution_count": 13,
   "id": "cca56e4f",
   "metadata": {
    "papermill": {
     "duration": 0.011656,
     "end_time": "2025-03-03T05:46:15.798483",
     "exception": false,
     "start_time": "2025-03-03T05:46:15.786827",
     "status": "completed"
    },
    "tags": []
   },
   "outputs": [],
   "source": [
    "numerical_features = ['tenure', 'MonthlyCharges', 'TotalCharges']\n",
    "categorical_features = df.select_dtypes(include=['object']).columns.tolist()"
   ]
  },
  {
   "cell_type": "markdown",
   "id": "13e49c26",
   "metadata": {
    "papermill": {
     "duration": 0.004861,
     "end_time": "2025-03-03T05:46:15.808413",
     "exception": false,
     "start_time": "2025-03-03T05:46:15.803552",
     "status": "completed"
    },
    "tags": []
   },
   "source": [
    "# One-hot encode categorical variables"
   ]
  },
  {
   "cell_type": "code",
   "execution_count": 14,
   "id": "565849af",
   "metadata": {
    "papermill": {
     "duration": 0.029965,
     "end_time": "2025-03-03T05:46:15.843720",
     "exception": false,
     "start_time": "2025-03-03T05:46:15.813755",
     "status": "completed"
    },
    "tags": []
   },
   "outputs": [],
   "source": [
    "df = pd.get_dummies(df, columns=categorical_features, drop_first=True)"
   ]
  },
  {
   "cell_type": "markdown",
   "id": "0008c8ad",
   "metadata": {
    "papermill": {
     "duration": 0.005144,
     "end_time": "2025-03-03T05:46:15.853985",
     "exception": false,
     "start_time": "2025-03-03T05:46:15.848841",
     "status": "completed"
    },
    "tags": []
   },
   "source": [
    "# Split features and target"
   ]
  },
  {
   "cell_type": "code",
   "execution_count": 15,
   "id": "e94ebb21",
   "metadata": {
    "papermill": {
     "duration": 0.011075,
     "end_time": "2025-03-03T05:46:15.870176",
     "exception": false,
     "start_time": "2025-03-03T05:46:15.859101",
     "status": "completed"
    },
    "tags": []
   },
   "outputs": [],
   "source": [
    "X = df.drop(columns=['Churn'])\n",
    "y = df['Churn']\n"
   ]
  },
  {
   "cell_type": "markdown",
   "id": "a6248c71",
   "metadata": {
    "papermill": {
     "duration": 0.004873,
     "end_time": "2025-03-03T05:46:15.880239",
     "exception": false,
     "start_time": "2025-03-03T05:46:15.875366",
     "status": "completed"
    },
    "tags": []
   },
   "source": [
    "# Train-test-validation split (70%-15%-15%)"
   ]
  },
  {
   "cell_type": "code",
   "execution_count": 16,
   "id": "05e1ff2a",
   "metadata": {
    "papermill": {
     "duration": 0.01929,
     "end_time": "2025-03-03T05:46:15.904596",
     "exception": false,
     "start_time": "2025-03-03T05:46:15.885306",
     "status": "completed"
    },
    "tags": []
   },
   "outputs": [],
   "source": [
    "X_train, X_temp, y_train, y_temp = train_test_split(X, y, test_size=0.3, stratify=y, random_state=42)\n",
    "X_val, X_test, y_val, y_test = train_test_split(X_temp, y_temp, test_size=0.5, stratify=y_temp, random_state=42)\n"
   ]
  },
  {
   "cell_type": "markdown",
   "id": "1d187044",
   "metadata": {
    "papermill": {
     "duration": 0.005007,
     "end_time": "2025-03-03T05:46:15.914653",
     "exception": false,
     "start_time": "2025-03-03T05:46:15.909646",
     "status": "completed"
    },
    "tags": []
   },
   "source": [
    "# Standardize numerical features"
   ]
  },
  {
   "cell_type": "code",
   "execution_count": 17,
   "id": "6121b29e",
   "metadata": {
    "papermill": {
     "duration": 0.044179,
     "end_time": "2025-03-03T05:46:15.963931",
     "exception": false,
     "start_time": "2025-03-03T05:46:15.919752",
     "status": "completed"
    },
    "tags": []
   },
   "outputs": [],
   "source": [
    "scaler = StandardScaler()\n",
    "X_train[numerical_features] = scaler.fit_transform(X_train[numerical_features])\n",
    "X_val[numerical_features] = scaler.transform(X_val[numerical_features])\n",
    "X_test[numerical_features] = scaler.transform(X_test[numerical_features])"
   ]
  },
  {
   "cell_type": "markdown",
   "id": "42440eba",
   "metadata": {
    "papermill": {
     "duration": 0.004941,
     "end_time": "2025-03-03T05:46:15.974012",
     "exception": false,
     "start_time": "2025-03-03T05:46:15.969071",
     "status": "completed"
    },
    "tags": []
   },
   "source": [
    "# Convert to PyTorch tensors"
   ]
  },
  {
   "cell_type": "code",
   "execution_count": 18,
   "id": "bd95bede",
   "metadata": {
    "papermill": {
     "duration": 0.011457,
     "end_time": "2025-03-03T05:46:15.990446",
     "exception": false,
     "start_time": "2025-03-03T05:46:15.978989",
     "status": "completed"
    },
    "tags": []
   },
   "outputs": [
    {
     "name": "stdout",
     "output_type": "stream",
     "text": [
      "Series([], dtype: object)\n"
     ]
    }
   ],
   "source": [
    "print(X_train.dtypes[X_train.dtypes == 'object'])\n"
   ]
  },
  {
   "cell_type": "code",
   "execution_count": 19,
   "id": "04e399f6",
   "metadata": {
    "papermill": {
     "duration": 0.063266,
     "end_time": "2025-03-03T05:46:16.058872",
     "exception": false,
     "start_time": "2025-03-03T05:46:15.995606",
     "status": "completed"
    },
    "tags": []
   },
   "outputs": [],
   "source": [
    "# Ensure all categorical variables are one-hot encoded\n",
    "X = pd.get_dummies(X, drop_first=True)\n",
    "\n",
    "# Convert all columns to numeric (handles any unexpected non-numeric data)\n",
    "X = X.apply(pd.to_numeric, errors='coerce')\n",
    "\n",
    "# Fill NaNs with 0 (or consider filling with column mean)\n",
    "X.fillna(0, inplace=True)\n",
    "\n",
    "# Re-split the dataset after fixing data issues\n",
    "X_train, X_temp, y_train, y_temp = train_test_split(X, y, test_size=0.3, stratify=y, random_state=42)\n",
    "X_val, X_test, y_val, y_test = train_test_split(X_temp, y_temp, test_size=0.5, stratify=y_temp, random_state=42)\n",
    "\n",
    "# Ensure all numerical columns are standardized\n",
    "scaler = StandardScaler()\n",
    "X_train = pd.DataFrame(scaler.fit_transform(X_train), columns=X_train.columns)\n",
    "X_val = pd.DataFrame(scaler.transform(X_val), columns=X_val.columns)\n",
    "X_test = pd.DataFrame(scaler.transform(X_test), columns=X_test.columns)\n",
    "\n",
    "# Convert to PyTorch tensors\n",
    "X_train_tensor = torch.tensor(X_train.values, dtype=torch.float32)\n",
    "y_train_tensor = torch.tensor(y_train.values, dtype=torch.long)\n",
    "X_val_tensor = torch.tensor(X_val.values, dtype=torch.float32)\n",
    "y_val_tensor = torch.tensor(y_val.values, dtype=torch.long)\n",
    "X_test_tensor = torch.tensor(X_test.values, dtype=torch.float32)\n",
    "y_test_tensor = torch.tensor(y_test.values, dtype=torch.long)\n"
   ]
  },
  {
   "cell_type": "code",
   "execution_count": 20,
   "id": "af79db11",
   "metadata": {
    "papermill": {
     "duration": 0.01264,
     "end_time": "2025-03-03T05:46:16.078447",
     "exception": false,
     "start_time": "2025-03-03T05:46:16.065807",
     "status": "completed"
    },
    "tags": []
   },
   "outputs": [],
   "source": [
    "X_train_tensor = torch.tensor(X_train.values, dtype=torch.float32)\n",
    "y_train_tensor = torch.tensor(y_train.values, dtype=torch.long)\n",
    "X_val_tensor = torch.tensor(X_val.values, dtype=torch.float32)\n",
    "y_val_tensor = torch.tensor(y_val.values, dtype=torch.long)\n",
    "X_test_tensor = torch.tensor(X_test.values, dtype=torch.float32)\n",
    "y_test_tensor = torch.tensor(y_test.values, dtype=torch.long)"
   ]
  },
  {
   "cell_type": "markdown",
   "id": "c7b88400",
   "metadata": {
    "papermill": {
     "duration": 0.005752,
     "end_time": "2025-03-03T05:46:16.090724",
     "exception": false,
     "start_time": "2025-03-03T05:46:16.084972",
     "status": "completed"
    },
    "tags": []
   },
   "source": [
    "# Create DataLoaders"
   ]
  },
  {
   "cell_type": "code",
   "execution_count": 21,
   "id": "81825595",
   "metadata": {
    "papermill": {
     "duration": 0.012967,
     "end_time": "2025-03-03T05:46:16.108793",
     "exception": false,
     "start_time": "2025-03-03T05:46:16.095826",
     "status": "completed"
    },
    "tags": []
   },
   "outputs": [],
   "source": [
    "batch_size = 64\n",
    "train_loader = DataLoader(TensorDataset(X_train_tensor, y_train_tensor), batch_size=batch_size, shuffle=True)\n",
    "val_loader = DataLoader(TensorDataset(X_val_tensor, y_val_tensor), batch_size=batch_size, shuffle=False)\n",
    "test_loader = DataLoader(TensorDataset(X_test_tensor, y_test_tensor), batch_size=batch_size, shuffle=False)"
   ]
  },
  {
   "cell_type": "markdown",
   "id": "19d0de90",
   "metadata": {
    "papermill": {
     "duration": 0.005069,
     "end_time": "2025-03-03T05:46:16.119172",
     "exception": false,
     "start_time": "2025-03-03T05:46:16.114103",
     "status": "completed"
    },
    "tags": []
   },
   "source": [
    "# Define improved neural network"
   ]
  },
  {
   "cell_type": "code",
   "execution_count": 22,
   "id": "132bd04c",
   "metadata": {
    "papermill": {
     "duration": 0.011326,
     "end_time": "2025-03-03T05:46:16.135669",
     "exception": false,
     "start_time": "2025-03-03T05:46:16.124343",
     "status": "completed"
    },
    "tags": []
   },
   "outputs": [],
   "source": [
    "class ChurnClassifier(nn.Module):\n",
    "    def __init__(self, input_size):\n",
    "        super(ChurnClassifier, self).__init__()\n",
    "        self.model = nn.Sequential(\n",
    "            nn.Linear(input_size, 128),\n",
    "            nn.BatchNorm1d(128),\n",
    "            nn.LeakyReLU(),\n",
    "            nn.Dropout(0.4),\n",
    "\n",
    "            nn.Linear(128, 64),\n",
    "            nn.BatchNorm1d(64),\n",
    "            nn.LeakyReLU(),\n",
    "            nn.Dropout(0.4),\n",
    "\n",
    "            nn.Linear(64, 32),\n",
    "            nn.LeakyReLU(),\n",
    "\n",
    "            nn.Linear(32, 16),\n",
    "            nn.LeakyReLU(),\n",
    "\n",
    "            nn.Linear(16, 2)  # Binary classification\n",
    "        )\n",
    "\n",
    "    def forward(self, x):\n",
    "        return self.model(x)"
   ]
  },
  {
   "cell_type": "markdown",
   "id": "caa452e4",
   "metadata": {
    "papermill": {
     "duration": 0.00489,
     "end_time": "2025-03-03T05:46:16.145753",
     "exception": false,
     "start_time": "2025-03-03T05:46:16.140863",
     "status": "completed"
    },
    "tags": []
   },
   "source": [
    "# Initialize model"
   ]
  },
  {
   "cell_type": "code",
   "execution_count": 23,
   "id": "b334a02e",
   "metadata": {
    "papermill": {
     "duration": 0.288627,
     "end_time": "2025-03-03T05:46:16.439419",
     "exception": false,
     "start_time": "2025-03-03T05:46:16.150792",
     "status": "completed"
    },
    "tags": []
   },
   "outputs": [],
   "source": [
    "device = torch.device(\"cuda\" if torch.cuda.is_available() else \"cpu\")\n",
    "model = ChurnClassifier(input_size=X_train.shape[1]).to(device)"
   ]
  },
  {
   "cell_type": "markdown",
   "id": "78485027",
   "metadata": {
    "papermill": {
     "duration": 0.005019,
     "end_time": "2025-03-03T05:46:16.450032",
     "exception": false,
     "start_time": "2025-03-03T05:46:16.445013",
     "status": "completed"
    },
    "tags": []
   },
   "source": [
    "# Loss function and optimizer"
   ]
  },
  {
   "cell_type": "code",
   "execution_count": 24,
   "id": "714b7298",
   "metadata": {
    "papermill": {
     "duration": null,
     "end_time": null,
     "exception": false,
     "start_time": "2025-03-03T05:46:16.455275",
     "status": "running"
    },
    "tags": []
   },
   "outputs": [],
   "source": [
    "criterion = nn.CrossEntropyLoss()\n",
    "optimizer = optim.Adam(model.parameters(), lr=0.001, weight_decay=1e-4)  # L2 regularization\n",
    "scheduler = optim.lr_scheduler.ReduceLROnPlateau(optimizer, mode='min', patience=3, factor=0.5)"
   ]
  },
  {
   "cell_type": "markdown",
   "id": "fc86f373",
   "metadata": {
    "papermill": {
     "duration": null,
     "end_time": null,
     "exception": null,
     "start_time": null,
     "status": "pending"
    },
    "tags": []
   },
   "source": [
    "# Train model"
   ]
  },
  {
   "cell_type": "code",
   "execution_count": 25,
   "id": "476e9072",
   "metadata": {
    "papermill": {
     "duration": null,
     "end_time": null,
     "exception": null,
     "start_time": null,
     "status": "pending"
    },
    "tags": []
   },
   "outputs": [
    {
     "name": "stdout",
     "output_type": "stream",
     "text": [
      "Epoch 1: Train Loss: 0.5049, Train Acc: 0.7379, Val Loss: 0.4541, Val Acc: 0.7936\n",
      "Epoch 2: Train Loss: 0.4431, Train Acc: 0.7826, Val Loss: 0.4554, Val Acc: 0.7576\n",
      "Epoch 3: Train Loss: 0.4308, Train Acc: 0.7919, Val Loss: 0.4421, Val Acc: 0.7812\n",
      "Epoch 4: Train Loss: 0.4301, Train Acc: 0.7970, Val Loss: 0.4336, Val Acc: 0.7888\n",
      "Epoch 5: Train Loss: 0.4325, Train Acc: 0.7915, Val Loss: 0.4342, Val Acc: 0.7917\n",
      "Epoch 6: Train Loss: 0.4241, Train Acc: 0.7941, Val Loss: 0.4358, Val Acc: 0.7992\n",
      "Epoch 7: Train Loss: 0.4205, Train Acc: 0.7949, Val Loss: 0.4426, Val Acc: 0.7794\n",
      "Epoch 8: Train Loss: 0.4242, Train Acc: 0.8026, Val Loss: 0.4318, Val Acc: 0.7917\n",
      "Epoch 9: Train Loss: 0.4207, Train Acc: 0.8014, Val Loss: 0.4367, Val Acc: 0.7841\n",
      "Epoch 10: Train Loss: 0.4160, Train Acc: 0.8043, Val Loss: 0.4308, Val Acc: 0.7898\n",
      "Epoch 11: Train Loss: 0.4141, Train Acc: 0.8037, Val Loss: 0.4296, Val Acc: 0.7917\n",
      "Early stopping triggered.\n"
     ]
    },
    {
     "data": {
      "image/png": "[encoded data removed]",
      "text/plain": [
       "<Figure size 1200x500 with 2 Axes>"
      ]
     },
     "metadata": {},
     "output_type": "display_data"
    }
   ],
   "source": [
    "def train_model(model, train_loader, val_loader, criterion, optimizer, scheduler, epochs=50, patience=5):\n",
    "    best_val_acc = 0.0\n",
    "    patience_counter = 0\n",
    "\n",
    "    # ✅ Initialize lists for tracking metrics\n",
    "    train_losses, val_losses = [], []\n",
    "    train_accuracies, val_accuracies = [], []\n",
    "\n",
    "    for epoch in range(epochs):\n",
    "        model.train()\n",
    "        train_loss, correct_train, total_train = 0, 0, 0\n",
    "\n",
    "        for X_batch, y_batch in train_loader:\n",
    "            X_batch, y_batch = X_batch.to(device), y_batch.to(device)\n",
    "\n",
    "            optimizer.zero_grad()\n",
    "            outputs = model(X_batch)\n",
    "            loss = criterion(outputs, y_batch)\n",
    "            loss.backward()\n",
    "            optimizer.step()\n",
    "\n",
    "            train_loss += loss.item()\n",
    "            _, predicted = torch.max(outputs, 1)\n",
    "            correct_train += (predicted == y_batch).sum().item()\n",
    "            total_train += y_batch.size(0)\n",
    "\n",
    "        train_acc = correct_train / total_train\n",
    "        train_loss /= len(train_loader)\n",
    "\n",
    "        # ✅ Append values for plotting\n",
    "        train_losses.append(train_loss)\n",
    "        train_accuracies.append(train_acc)\n",
    "\n",
    "        # Validation phase\n",
    "        model.eval()\n",
    "        val_loss, correct_val, total_val = 0, 0, 0\n",
    "        with torch.no_grad():\n",
    "            for X_batch, y_batch in val_loader:\n",
    "                X_batch, y_batch = X_batch.to(device), y_batch.to(device)\n",
    "                outputs = model(X_batch)\n",
    "                loss = criterion(outputs, y_batch)\n",
    "\n",
    "                val_loss += loss.item()\n",
    "                _, predicted = torch.max(outputs, 1)\n",
    "                correct_val += (predicted == y_batch).sum().item()\n",
    "                total_val += y_batch.size(0)\n",
    "\n",
    "        val_acc = correct_val / total_val\n",
    "        val_loss /= len(val_loader)\n",
    "\n",
    "        # ✅ Append values for plotting\n",
    "        val_losses.append(val_loss)\n",
    "        val_accuracies.append(val_acc)\n",
    "\n",
    "        scheduler.step(val_loss)  # Adjust learning rate\n",
    "\n",
    "        print(f\"Epoch {epoch+1}: Train Loss: {train_loss:.4f}, Train Acc: {train_acc:.4f}, \"\n",
    "              f\"Val Loss: {val_loss:.4f}, Val Acc: {val_acc:.4f}\")\n",
    "\n",
    "        # Early stopping based on validation accuracy\n",
    "        if val_acc > best_val_acc:\n",
    "            best_val_acc = val_acc\n",
    "            patience_counter = 0\n",
    "            best_model_state = model.state_dict()\n",
    "        else:\n",
    "            patience_counter += 1\n",
    "            if patience_counter >= patience:\n",
    "                print(\"Early stopping triggered.\")\n",
    "                break\n",
    "\n",
    "    # Load best model state\n",
    "    model.load_state_dict(best_model_state)\n",
    "\n",
    "    # ✅ Plot Loss & Accuracy Curves\n",
    "    plt.figure(figsize=(12, 5))\n",
    "    \n",
    "    plt.subplot(1, 2, 1)\n",
    "    plt.plot(range(1, len(train_losses) + 1), train_losses, label='Train Loss', marker='o')\n",
    "    plt.plot(range(1, len(val_losses) + 1), val_losses, label='Validation Loss', marker='o')\n",
    "    plt.xlabel(\"Epochs\")\n",
    "    plt.ylabel(\"Loss\")\n",
    "    plt.title(\"Loss per Epoch\")\n",
    "    plt.legend()\n",
    "    plt.grid()\n",
    "\n",
    "    plt.subplot(1, 2, 2)\n",
    "    plt.plot(range(1, len(train_accuracies) + 1), train_accuracies, label='Train Accuracy', marker='o')\n",
    "    plt.plot(range(1, len(val_accuracies) + 1), val_accuracies, label='Validation Accuracy', marker='o')\n",
    "    plt.xlabel(\"Epochs\")\n",
    "    plt.ylabel(\"Accuracy\")\n",
    "    plt.title(\"Accuracy per Epoch\")\n",
    "    plt.legend()\n",
    "    plt.grid()\n",
    "\n",
    "    plt.show()\n",
    "\n",
    "# Call the function\n",
    "train_model(model, train_loader, val_loader, criterion, optimizer, scheduler)\n"
   ]
  },
  {
   "cell_type": "markdown",
   "id": "592ebac2",
   "metadata": {
    "papermill": {
     "duration": null,
     "end_time": null,
     "exception": null,
     "start_time": null,
     "status": "pending"
    },
    "tags": []
   },
   "source": [
    "# Evaluate on test set"
   ]
  },
  {
   "cell_type": "code",
   "execution_count": 26,
   "id": "d38fdbbc",
   "metadata": {
    "papermill": {
     "duration": null,
     "end_time": null,
     "exception": null,
     "start_time": null,
     "status": "pending"
    },
    "tags": []
   },
   "outputs": [
    {
     "name": "stdout",
     "output_type": "stream",
     "text": [
      "\n",
      "Final Test Loss: 0.4242, Final Test Accuracy: 0.8051\n"
     ]
    }
   ],
   "source": [
    "model.eval()\n",
    "test_loss, correct_test, total_test = 0, 0, 0\n",
    "with torch.no_grad():\n",
    "    for X_batch, y_batch in test_loader:\n",
    "        X_batch, y_batch = X_batch.to(device), y_batch.to(device)\n",
    "        outputs = model(X_batch)\n",
    "        loss = criterion(outputs, y_batch)\n",
    "\n",
    "        test_loss += loss.item()\n",
    "        _, predicted = torch.max(outputs, 1)\n",
    "        correct_test += (predicted == y_batch).sum().item()\n",
    "        total_test += y_batch.size(0)\n",
    "\n",
    "test_acc = correct_test / total_test\n",
    "test_loss /= len(test_loader)\n",
    "\n",
    "print(f\"\\nFinal Test Loss: {test_loss:.4f}, Final Test Accuracy: {test_acc:.4f}\")"
   ]
  },
  {
   "cell_type": "code",
   "execution_count": null,
   "id": "a6af0a81",
   "metadata": {
    "papermill": {
     "duration": null,
     "end_time": null,
     "exception": null,
     "start_time": null,
     "status": "pending"
    },
    "tags": []
   },
   "outputs": [],
   "source": []
  }
 ],
 "metadata": {
  "kaggle": {
   "accelerator": "gpu",
   "dataSources": [
    {
     "datasetId": 13996,
     "sourceId": 18858,
     "sourceType": "datasetVersion"
    }
   ],
   "dockerImageVersionId": 30919,
   "isGpuEnabled": true,
   "isInternetEnabled": true,
   "language": "python",
   "sourceType": "notebook"
  },
  "kernelspec": {
   "display_name": "Python 3 (ipykernel)",
   "language": "python",
   "name": "python3"
  },
  "language_info": {
   "codemirror_mode": {
    "name": "ipython",
    "version": 3
   },
   "file_extension": ".py",
   "mimetype": "text/x-python",
   "name": "python",
   "nbconvert_exporter": "python",
   "pygments_lexer": "ipython3",
   "version": "3.10.11"
  },
  "papermill": {
   "default_parameters": {},
   "duration": null,
   "end_time": null,
   "environment_variables": {},
   "exception": null,
   "input_path": "__notebook__.ipynb",
   "output_path": "__notebook__.ipynb",
   "parameters": {},
   "start_time": "2025-03-03T05:46:07.861405",
   "version": "2.6.0"
  }
 },
 "nbformat": 4,
 "nbformat_minor": 5
}
